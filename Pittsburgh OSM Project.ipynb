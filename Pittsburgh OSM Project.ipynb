{
 "cells": [
  {
   "cell_type": "markdown",
   "metadata": {},
   "source": [
    "# OpenStreetMap Data Case Study"
   ]
  },
  {
   "cell_type": "markdown",
   "metadata": {},
   "source": [
    "## Map Area\n",
    "\n",
    "Pittsburgh, PA, United States (and greater metropolitan area)\n",
    "\n",
    "https://mapzen.com/data/metro-extracts/your-extracts/caf6229b018b\n",
    "\n",
    "This map is of the Pittsburgh metropolitan area. It includes Pittsburgh and my hometown (a small town about 30 miles north of Pittsburgh).\n",
    "\n",
    "https://en.wikipedia.org/wiki/Pittsburgh_metropolitan_area"
   ]
  },
  {
   "cell_type": "code",
   "execution_count": 1,
   "metadata": {
    "collapsed": false
   },
   "outputs": [
    {
     "name": "stdout",
     "output_type": "stream",
     "text": [
      "{'bounds': 1,\n",
      " 'member': 38880,\n",
      " 'nd': 2477335,\n",
      " 'node': 2140584,\n",
      " 'osm': 1,\n",
      " 'relation': 3724,\n",
      " 'tag': 1360795,\n",
      " 'way': 223581}\n"
     ]
    }
   ],
   "source": [
    "import xml.etree.cElementTree as ET\n",
    "import pprint\n",
    "\n",
    "def count_tags(filename):\n",
    "\n",
    "        tags = dict()\n",
    "        tree = ET.parse(filename)\n",
    "        root = tree.getroot()\n",
    "\n",
    "        for element in root.iter():\n",
    "            tag = element.tag\n",
    "\n",
    "            if(tag not in tags):\n",
    "                tags[tag] = 0\n",
    "\n",
    "            tags[tag] += 1\n",
    "\n",
    "        return tags\n",
    "    \n",
    "tags = count_tags('ex_JJ1igoeA8K3YfUHPuiifFYRg8LHik.osm')\n",
    "pprint.pprint(tags)"
   ]
  }
 ],
 "metadata": {
  "kernelspec": {
   "display_name": "Python [conda root]",
   "language": "python",
   "name": "conda-root-py"
  },
  "language_info": {
   "codemirror_mode": {
    "name": "ipython",
    "version": 2
   },
   "file_extension": ".py",
   "mimetype": "text/x-python",
   "name": "python",
   "nbconvert_exporter": "python",
   "pygments_lexer": "ipython2",
   "version": "2.7.13"
  }
 },
 "nbformat": 4,
 "nbformat_minor": 2
}
